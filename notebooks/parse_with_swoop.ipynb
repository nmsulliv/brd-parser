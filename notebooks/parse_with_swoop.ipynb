{
 "cells": [
  {
   "cell_type": "code",
   "execution_count": 1,
   "metadata": {},
   "outputs": [],
   "source": [
    "from Swoop import Swoop"
   ]
  },
  {
   "cell_type": "code",
   "execution_count": 2,
   "metadata": {},
   "outputs": [
    {
     "name": "stderr",
     "output_type": "stream",
     "text": [
      "WARNING:root:Eagle file opened as 'None' is invalid on disk: <string>:149:0:ERROR:VALID:DTD_MISSING_ATTRIBUTE: Element dimension does not carry attribute width\n"
     ]
    }
   ],
   "source": [
    "b = Swoop.EagleFile.from_file('/Users/Bluefish_/Desktop/lca/brd-parser/data/flora.brd')"
   ]
  },
  {
   "cell_type": "code",
   "execution_count": 8,
   "metadata": {},
   "outputs": [],
   "source": [
    "l = b.layersByName['Top']"
   ]
  },
  {
   "cell_type": "code",
   "execution_count": 6,
   "metadata": {},
   "outputs": [
    {
     "data": {
      "text/plain": [
       "{'Top': <Swoop.Swoop.Layer at 0x105c049d0>,\n",
       " 'Route2': <Swoop.Swoop.Layer at 0x105c044c0>,\n",
       " 'Route3': <Swoop.Swoop.Layer at 0x105c045e0>,\n",
       " 'Route4': <Swoop.Swoop.Layer at 0x105c04460>,\n",
       " 'Route5': <Swoop.Swoop.Layer at 0x105c04a30>,\n",
       " 'Route6': <Swoop.Swoop.Layer at 0x105c04af0>,\n",
       " 'Route7': <Swoop.Swoop.Layer at 0x10a02d820>,\n",
       " 'Route8': <Swoop.Swoop.Layer at 0x10a02d8e0>,\n",
       " 'Route9': <Swoop.Swoop.Layer at 0x10a02d910>,\n",
       " 'Route10': <Swoop.Swoop.Layer at 0x10a02d940>,\n",
       " 'Route11': <Swoop.Swoop.Layer at 0x10a02d970>,\n",
       " 'Route12': <Swoop.Swoop.Layer at 0x10a02d670>,\n",
       " 'Route13': <Swoop.Swoop.Layer at 0x10a02d9a0>,\n",
       " 'Route14': <Swoop.Swoop.Layer at 0x10a02d9d0>,\n",
       " 'Route15': <Swoop.Swoop.Layer at 0x10a02da00>,\n",
       " 'Bottom': <Swoop.Swoop.Layer at 0x10a02da30>,\n",
       " 'Pads': <Swoop.Swoop.Layer at 0x10a02da60>,\n",
       " 'Vias': <Swoop.Swoop.Layer at 0x10a02da90>,\n",
       " 'Unrouted': <Swoop.Swoop.Layer at 0x10a02daf0>,\n",
       " 'Dimension': <Swoop.Swoop.Layer at 0x10a02dac0>,\n",
       " 'tPlace': <Swoop.Swoop.Layer at 0x10a02db20>,\n",
       " 'bPlace': <Swoop.Swoop.Layer at 0x10a02db80>,\n",
       " 'tOrigins': <Swoop.Swoop.Layer at 0x10a02db50>,\n",
       " 'bOrigins': <Swoop.Swoop.Layer at 0x10a02dbb0>,\n",
       " 'tNames': <Swoop.Swoop.Layer at 0x10a02dbe0>,\n",
       " 'bNames': <Swoop.Swoop.Layer at 0x10a02dc40>,\n",
       " 'tValues': <Swoop.Swoop.Layer at 0x10a02dc10>,\n",
       " 'bValues': <Swoop.Swoop.Layer at 0x10a02dc70>,\n",
       " 'tStop': <Swoop.Swoop.Layer at 0x10a02dca0>,\n",
       " 'bStop': <Swoop.Swoop.Layer at 0x10a02dcd0>,\n",
       " 'tCream': <Swoop.Swoop.Layer at 0x10a02dd00>,\n",
       " 'bCream': <Swoop.Swoop.Layer at 0x10a02dd30>,\n",
       " 'tFinish': <Swoop.Swoop.Layer at 0x10a02dd60>,\n",
       " 'bFinish': <Swoop.Swoop.Layer at 0x10a02dd90>,\n",
       " 'tGlue': <Swoop.Swoop.Layer at 0x10a02ddc0>,\n",
       " 'bGlue': <Swoop.Swoop.Layer at 0x10a02ddf0>,\n",
       " 'tTest': <Swoop.Swoop.Layer at 0x10a02de20>,\n",
       " 'bTest': <Swoop.Swoop.Layer at 0x10a02de50>,\n",
       " 'tKeepout': <Swoop.Swoop.Layer at 0x10a02de80>,\n",
       " 'bKeepout': <Swoop.Swoop.Layer at 0x10a02deb0>,\n",
       " 'tRestrict': <Swoop.Swoop.Layer at 0x10a02dee0>,\n",
       " 'bRestrict': <Swoop.Swoop.Layer at 0x10a02df10>,\n",
       " 'vRestrict': <Swoop.Swoop.Layer at 0x10a02df40>,\n",
       " 'Drills': <Swoop.Swoop.Layer at 0x10a02d610>,\n",
       " 'Holes': <Swoop.Swoop.Layer at 0x10a02df70>,\n",
       " 'Milling': <Swoop.Swoop.Layer at 0x10a02dfa0>,\n",
       " 'Measures': <Swoop.Swoop.Layer at 0x10a02dfd0>,\n",
       " 'Document': <Swoop.Swoop.Layer at 0x10a025040>,\n",
       " 'Reference': <Swoop.Swoop.Layer at 0x10a025070>,\n",
       " 'dxf': <Swoop.Swoop.Layer at 0x10a0250a0>,\n",
       " 'tDocu': <Swoop.Swoop.Layer at 0x10a0250d0>,\n",
       " 'bDocu': <Swoop.Swoop.Layer at 0x10a025100>,\n",
       " 'tGND_GNDA': <Swoop.Swoop.Layer at 0x10a025130>,\n",
       " 'bGND_GNDA': <Swoop.Swoop.Layer at 0x10a025160>,\n",
       " 'wert': <Swoop.Swoop.Layer at 0x10a025190>,\n",
       " 'Nets': <Swoop.Swoop.Layer at 0x10a0251c0>,\n",
       " 'Busses': <Swoop.Swoop.Layer at 0x10a0251f0>,\n",
       " 'Pins': <Swoop.Swoop.Layer at 0x10a025220>,\n",
       " 'Symbols': <Swoop.Swoop.Layer at 0x10a025250>,\n",
       " 'Names': <Swoop.Swoop.Layer at 0x10a025280>,\n",
       " 'Values': <Swoop.Swoop.Layer at 0x10a0252b0>,\n",
       " 'Info': <Swoop.Swoop.Layer at 0x10a0252e0>,\n",
       " 'Guide': <Swoop.Swoop.Layer at 0x10a025310>,\n",
       " 'Muster': <Swoop.Swoop.Layer at 0x10a025340>,\n",
       " 'Patch_Top': <Swoop.Swoop.Layer at 0x10a025370>,\n",
       " 'Vscore': <Swoop.Swoop.Layer at 0x10a0253a0>,\n",
       " 'fp3': <Swoop.Swoop.Layer at 0x10a0253d0>,\n",
       " 'Name': <Swoop.Swoop.Layer at 0x10a025400>,\n",
       " 'Beschreib': <Swoop.Swoop.Layer at 0x10a025430>,\n",
       " 'BGA-Top': <Swoop.Swoop.Layer at 0x10a025460>,\n",
       " 'BD-Top': <Swoop.Swoop.Layer at 0x10a025490>,\n",
       " 'fp8': <Swoop.Swoop.Layer at 0x10a0254c0>,\n",
       " 'fp9': <Swoop.Swoop.Layer at 0x10a0254f0>,\n",
       " 'fp0': <Swoop.Swoop.Layer at 0x10a025520>,\n",
       " 'LPC17xx': <Swoop.Swoop.Layer at 0x10a025550>,\n",
       " 'tSilk': <Swoop.Swoop.Layer at 0x10a025580>,\n",
       " 'Patch_BOT': <Swoop.Swoop.Layer at 0x10a0255b0>,\n",
       " '_tsilk': <Swoop.Swoop.Layer at 0x10a0255e0>,\n",
       " '_bsilk': <Swoop.Swoop.Layer at 0x10a025610>,\n",
       " 'tTestmark': <Swoop.Swoop.Layer at 0x10a025640>,\n",
       " 'bTestmark': <Swoop.Swoop.Layer at 0x10a025670>,\n",
       " '_tNames': <Swoop.Swoop.Layer at 0x10a0256a0>,\n",
       " '_bNames': <Swoop.Swoop.Layer at 0x10a0256d0>,\n",
       " '_tValues': <Swoop.Swoop.Layer at 0x10a025700>,\n",
       " '_bValues': <Swoop.Swoop.Layer at 0x10a025730>,\n",
       " 'tAdjust': <Swoop.Swoop.Layer at 0x10a025760>,\n",
       " 'bAdjust': <Swoop.Swoop.Layer at 0x10a025790>,\n",
       " 'Drill_legend': <Swoop.Swoop.Layer at 0x10a0257c0>,\n",
       " 'HeatSink': <Swoop.Swoop.Layer at 0x10a0257f0>,\n",
       " '_bDocu': <Swoop.Swoop.Layer at 0x10a025820>,\n",
       " 'Contour': <Swoop.Swoop.Layer at 0x10a025850>,\n",
       " '200bmp': <Swoop.Swoop.Layer at 0x10a025880>,\n",
       " '201bmp': <Swoop.Swoop.Layer at 0x10a0258b0>,\n",
       " '202bmp': <Swoop.Swoop.Layer at 0x10a0258e0>,\n",
       " '203bmp': <Swoop.Swoop.Layer at 0x10a025910>,\n",
       " '204bmp': <Swoop.Swoop.Layer at 0x10a025940>,\n",
       " '205bmp': <Swoop.Swoop.Layer at 0x10a025970>,\n",
       " '206bmp': <Swoop.Swoop.Layer at 0x10a0259a0>,\n",
       " '207bmp': <Swoop.Swoop.Layer at 0x10a0259d0>,\n",
       " '208bmp': <Swoop.Swoop.Layer at 0x10a025a00>,\n",
       " '209bmp': <Swoop.Swoop.Layer at 0x10a025a30>,\n",
       " '210bmp': <Swoop.Swoop.Layer at 0x10a025a60>,\n",
       " '211bmp': <Swoop.Swoop.Layer at 0x10a025a90>,\n",
       " '212bmp': <Swoop.Swoop.Layer at 0x10a025ac0>,\n",
       " '213bmp': <Swoop.Swoop.Layer at 0x10a025af0>,\n",
       " '214bmp': <Swoop.Swoop.Layer at 0x10a025b20>,\n",
       " '215bmp': <Swoop.Swoop.Layer at 0x10a025b50>,\n",
       " '216bmp': <Swoop.Swoop.Layer at 0x10a025b80>,\n",
       " '217bmp': <Swoop.Swoop.Layer at 0x10a025bb0>,\n",
       " '218bmp': <Swoop.Swoop.Layer at 0x10a025be0>,\n",
       " '219bmp': <Swoop.Swoop.Layer at 0x10a025c10>,\n",
       " '220bmp': <Swoop.Swoop.Layer at 0x10a025c40>,\n",
       " '221bmp': <Swoop.Swoop.Layer at 0x10a025c70>,\n",
       " '222bmp': <Swoop.Swoop.Layer at 0x10a025ca0>,\n",
       " '223bmp': <Swoop.Swoop.Layer at 0x10a025cd0>,\n",
       " '224bmp': <Swoop.Swoop.Layer at 0x10a025d00>,\n",
       " 'Housing': <Swoop.Swoop.Layer at 0x10a025d30>,\n",
       " 'Edge': <Swoop.Swoop.Layer at 0x10a025d60>,\n",
       " 'Descript': <Swoop.Swoop.Layer at 0x10a025d90>,\n",
       " 'SMDround': <Swoop.Swoop.Layer at 0x10a025dc0>,\n",
       " 'cooling': <Swoop.Swoop.Layer at 0x10a025df0>}"
      ]
     },
     "execution_count": 6,
     "metadata": {},
     "output_type": "execute_result"
    }
   ],
   "source": [
    "b.layersByName"
   ]
  },
  {
   "cell_type": "code",
   "execution_count": 11,
   "metadata": {},
   "outputs": [
    {
     "data": {
      "text/plain": [
       "[<Swoop.Swoop.Signal at 0x10c166d60>,\n",
       " <Swoop.Swoop.Signal at 0x10c166d90>,\n",
       " <Swoop.Swoop.Signal at 0x10c16d910>,\n",
       " <Swoop.Swoop.Signal at 0x10c16dd60>,\n",
       " <Swoop.Swoop.Signal at 0x10c16de50>,\n",
       " <Swoop.Swoop.Signal at 0x10c16df70>,\n",
       " <Swoop.Swoop.Signal at 0x10c1760a0>,\n",
       " <Swoop.Swoop.Signal at 0x10c1762e0>,\n",
       " <Swoop.Swoop.Signal at 0x10c176430>]"
      ]
     },
     "execution_count": 11,
     "metadata": {},
     "output_type": "execute_result"
    }
   ],
   "source": [
    "b.get_signals()"
   ]
  },
  {
   "cell_type": "code",
   "execution_count": 12,
   "metadata": {},
   "outputs": [],
   "source": [
    "s = b.get_nth_signal(0)"
   ]
  },
  {
   "cell_type": "code",
   "execution_count": 14,
   "metadata": {},
   "outputs": [
    {
     "data": {
      "text/plain": [
       "[<Swoop.Swoop.Wire at 0x10c166fd0>,\n",
       " <Swoop.Swoop.Wire at 0x10c16d2e0>,\n",
       " <Swoop.Swoop.Wire at 0x10c16d310>,\n",
       " <Swoop.Swoop.Wire at 0x10c16d340>,\n",
       " <Swoop.Swoop.Wire at 0x10c16d370>,\n",
       " <Swoop.Swoop.Wire at 0x10c16d3a0>,\n",
       " <Swoop.Swoop.Wire at 0x10c16d3d0>,\n",
       " <Swoop.Swoop.Wire at 0x10c16d400>,\n",
       " <Swoop.Swoop.Wire at 0x10c16d430>,\n",
       " <Swoop.Swoop.Wire at 0x10c16d460>,\n",
       " <Swoop.Swoop.Wire at 0x10c16d490>,\n",
       " <Swoop.Swoop.Wire at 0x10c16d4c0>,\n",
       " <Swoop.Swoop.Wire at 0x10c16d4f0>,\n",
       " <Swoop.Swoop.Wire at 0x10c16d520>,\n",
       " <Swoop.Swoop.Wire at 0x10c16d550>,\n",
       " <Swoop.Swoop.Wire at 0x10c16d580>,\n",
       " <Swoop.Swoop.Wire at 0x10c16d5b0>,\n",
       " <Swoop.Swoop.Wire at 0x10c16d5e0>,\n",
       " <Swoop.Swoop.Wire at 0x10c16d610>,\n",
       " <Swoop.Swoop.Wire at 0x10c16d640>,\n",
       " <Swoop.Swoop.Wire at 0x10c16d670>,\n",
       " <Swoop.Swoop.Wire at 0x10c16d6a0>,\n",
       " <Swoop.Swoop.Wire at 0x10c16d6d0>,\n",
       " <Swoop.Swoop.Wire at 0x10c16d700>,\n",
       " <Swoop.Swoop.Wire at 0x10c16d730>,\n",
       " <Swoop.Swoop.Wire at 0x10c16d760>,\n",
       " <Swoop.Swoop.Wire at 0x10c16d790>,\n",
       " <Swoop.Swoop.Wire at 0x10c16d7c0>,\n",
       " <Swoop.Swoop.Wire at 0x10c16d7f0>,\n",
       " <Swoop.Swoop.Wire at 0x10c16d820>,\n",
       " <Swoop.Swoop.Wire at 0x10c16d850>]"
      ]
     },
     "execution_count": 14,
     "metadata": {},
     "output_type": "execute_result"
    }
   ],
   "source": [
    "s.wires"
   ]
  },
  {
   "cell_type": "code",
   "execution_count": 1,
   "metadata": {},
   "outputs": [
    {
     "ename": "NameError",
     "evalue": "name 'b' is not defined",
     "output_type": "error",
     "traceback": [
      "\u001b[0;31m---------------------------------------------------------------------------\u001b[0m",
      "\u001b[0;31mNameError\u001b[0m                                 Traceback (most recent call last)",
      "\u001b[1;32m/Users/Bluefish_/Desktop/lca/brd-parser/notebooks/parse_with_swoop.ipynb Cell 8\u001b[0m in \u001b[0;36m<cell line: 1>\u001b[0;34m()\u001b[0m\n\u001b[0;32m----> <a href='vscode-notebook-cell:/Users/Bluefish_/Desktop/lca/brd-parser/notebooks/parse_with_swoop.ipynb#X10sZmlsZQ%3D%3D?line=0'>1</a>\u001b[0m b\u001b[39m.\u001b[39mget_nth_element(\u001b[39m1\u001b[39m)\n",
      "\u001b[0;31mNameError\u001b[0m: name 'b' is not defined"
     ]
    }
   ],
   "source": [
    "b.get_nth_element(1)"
   ]
  },
  {
   "cell_type": "code",
   "execution_count": null,
   "metadata": {},
   "outputs": [],
   "source": []
  }
 ],
 "metadata": {
  "kernelspec": {
   "display_name": "Python 3",
   "language": "python",
   "name": "python3"
  },
  "language_info": {
   "codemirror_mode": {
    "name": "ipython",
    "version": 3
   },
   "file_extension": ".py",
   "mimetype": "text/x-python",
   "name": "python",
   "nbconvert_exporter": "python",
   "pygments_lexer": "ipython3",
   "version": "3.8.13"
  },
  "orig_nbformat": 4
 },
 "nbformat": 4,
 "nbformat_minor": 2
}
