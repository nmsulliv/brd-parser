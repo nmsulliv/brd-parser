{
 "cells": [
  {
   "cell_type": "code",
   "execution_count": 30,
   "metadata": {},
   "outputs": [],
   "source": [
    "import requests\n",
    "import bs4\n",
    "import xml.etree.ElementTree as ET\n",
    "import os\n",
    "import re"
   ]
  },
  {
   "cell_type": "code",
   "execution_count": 46,
   "metadata": {},
   "outputs": [],
   "source": [
    "def get_IC_names(filename):\n",
    "    root = ET.parse(filename).getroot()\n",
    "    elements_info = root.findall(\".//elements/element\")\n",
    "    ic_names = {}\n",
    "    for element in elements_info:\n",
    "        element_name = element.get('name')\n",
    "        result = re.search('^[U][0-9]+', element_name)\n",
    "        if result is not None:\n",
    "            ic_names[int(element_name[1:])] = element.get('value')\n",
    "    print(ic_names)\n",
    "    return [ic_names[i+1] for i in range(len(ic_names))]"
   ]
  },
  {
   "cell_type": "code",
   "execution_count": 48,
   "metadata": {},
   "outputs": [
    {
     "name": "stdout",
     "output_type": "stream",
     "text": [
      "{2: 'RT9080-3.3', 3: 'MCP73831T-2ACI/OT', 1: '8MB QSPI'}\n"
     ]
    },
    {
     "data": {
      "text/plain": [
       "['8MB QSPI', 'RT9080-3.3', 'MCP73831T-2ACI/OT']"
      ]
     },
     "execution_count": 48,
     "metadata": {},
     "output_type": "execute_result"
    }
   ],
   "source": [
    "get_IC_names(os.path.abspath(\"brd-parser/data/usbhost.brd\"))"
   ]
  },
  {
   "cell_type": "code",
   "execution_count": 28,
   "metadata": {},
   "outputs": [],
   "source": [
    "filename = os.path.abspath(\"brd-parser/data/featherwing.brd\")\n",
    "search_term = get_IC_names(filename)\n",
    "url = 'https://google.com/search?q=' + search_term + ' power consumption'\n",
    "request_result=requests.get(url)\n",
    "soup = bs4.BeautifulSoup(request_result.text, \"lxml\")"
   ]
  },
  {
   "cell_type": "code",
   "execution_count": 32,
   "metadata": {},
   "outputs": [],
   "source": [
    "first_relevant_result = None\n",
    "for c in soup.find_all(\"h3\"):\n",
    "    if search_term.lower() in c.text.lower():\n",
    "        first_relevant_result = c\n",
    "        break"
   ]
  },
  {
   "cell_type": "code",
   "execution_count": 37,
   "metadata": {},
   "outputs": [
    {
     "name": "stdout",
     "output_type": "stream",
     "text": [
      "[PDF] FGPMMOPA6H GPS Standalone Module Data Sheetcdn-shop.adafruit.com › GlobalTop-FGPMMOPA6H-Datasheet-V0A\n",
      "[PDF] FGPMMOPA6H GPS Standalone Module Data Sheetcdn-shop.adafruit.com › GlobalTop-FGPMMOPA6H-Datasheet-V0A\n"
     ]
    }
   ],
   "source": [
    "first_link = first_relevant_result.parent\n",
    "while \"href\" not in first_link.attrs and first_link is not soup:\n",
    "    first_link = first_link.parent"
   ]
  },
  {
   "cell_type": "code",
   "execution_count": 38,
   "metadata": {},
   "outputs": [
    {
     "data": {
      "text/plain": [
       "<a href=\"/url?q=https://cdn-shop.adafruit.com/datasheets/GlobalTop-FGPMMOPA6H-Datasheet-V0A.pdf&amp;sa=U&amp;ved=2ahUKEwjR1YCH2Ob-AhXBOn0KHfSHBUsQFnoECAYQAg&amp;usg=AOvVaw1B7XpzjhRpHr5bCewJKpYP\"><div class=\"DnJfK\"><div class=\"j039Wc\"><h3 class=\"zBAuLc l97dzf\"><div class=\"BNeawe vvjwJb AP7Wnd\">[PDF] FGPMMOPA6H GPS Standalone Module Data Sheet</div></h3></div><div class=\"sCuL3\"><div class=\"BNeawe UPmit AP7Wnd lRVwie\">cdn-shop.adafruit.com › GlobalTop-FGPMMOPA6H-Datasheet-V0A</div></div></div></a>"
      ]
     },
     "execution_count": 38,
     "metadata": {},
     "output_type": "execute_result"
    }
   ],
   "source": [
    "first_link"
   ]
  },
  {
   "cell_type": "code",
   "execution_count": 41,
   "metadata": {},
   "outputs": [
    {
     "data": {
      "text/plain": [
       "'Jan 31, 2012 · FGPMMOPA6H is excellent low power consumption characteristic (acquisition 82mW, tracking. 66mW), power sensitive devices, especially portable\\xa0...'"
      ]
     },
     "execution_count": 41,
     "metadata": {},
     "output_type": "execute_result"
    }
   ],
   "source": [
    "first_link.parent.next_sibling.text"
   ]
  },
  {
   "cell_type": "code",
   "execution_count": 44,
   "metadata": {},
   "outputs": [
    {
     "name": "stdout",
     "output_type": "stream",
     "text": [
      "(acquisition 82mW,\n",
      "tracking. 66mW),\n"
     ]
    }
   ],
   "source": [
    "words = first_link.parent.next_sibling.text.rstrip().split()\n",
    "for i in range(len(words)):\n",
    "    if \"mw\" in words[i].lower():\n",
    "        print(words[i-1], words[i])"
   ]
  },
  {
   "cell_type": "code",
   "execution_count": 50,
   "metadata": {},
   "outputs": [],
   "source": [
    "def extract_mw_info(filename):\n",
    "    search_terms = [filename]\n",
    "    if filename.endswith(\".brd\"):\n",
    "        search_terms = get_IC_names(filename)\n",
    "    for search_term in search_terms:\n",
    "        print(\"[INFO] Searching for power consumption of \" + search_term)\n",
    "        url = 'https://google.com/search?q=' + search_term + ' power consumption'\n",
    "        request_result=requests.get(url)\n",
    "        soup = bs4.BeautifulSoup(request_result.text, \"lxml\")\n",
    "        first_relevant_result = None\n",
    "        found_info = False\n",
    "        for c in soup.find_all(\"h3\"):\n",
    "            # if search_term.lower() in c.text.lower():\n",
    "            first_relevant_result = c\n",
    "            first_link = first_relevant_result.parent\n",
    "            while \"href\" not in first_link.attrs and first_link is not soup:\n",
    "                first_link = first_link.parent\n",
    "            print(first_link)\n",
    "            htmltext = first_link.parent.next_sibling.text\n",
    "            print(htmltext)\n",
    "            words = htmltext.rstrip().split()\n",
    "            results = []\n",
    "            for i in range(len(words)):\n",
    "                if \"mw\" in words[i].lower():\n",
    "                    print(words[i-1], words[i])\n",
    "                    results.append((words[i-1], words[i]))\n",
    "            if len(results) > 0:\n",
    "                found_info = True\n",
    "                break\n",
    "        if not found_info:\n",
    "            print(\"[WARNING] No power consumption information found for \" + search_term)"
   ]
  },
  {
   "cell_type": "code",
   "execution_count": 52,
   "metadata": {},
   "outputs": [
    {
     "name": "stdout",
     "output_type": "stream",
     "text": [
      "{1: 'FGPMMOPA6H'}\n",
      "[INFO] Searching for power consumption of FGPMMOPA6H\n",
      "<a href=\"/url?q=https://cdn-shop.adafruit.com/datasheets/GlobalTop-FGPMMOPA6H-Datasheet-V0A.pdf&amp;sa=U&amp;ved=2ahUKEwj-osv-5ub-AhXMCjQIHfzaDW4QFnoECAoQAg&amp;usg=AOvVaw3ntOmh_ths24LWAKzo4jJ7\"><div class=\"DnJfK\"><div class=\"j039Wc\"><h3 class=\"zBAuLc l97dzf\"><div class=\"BNeawe vvjwJb AP7Wnd\">[PDF] FGPMMOPA6H GPS Standalone Module Data Sheet</div></h3></div><div class=\"sCuL3\"><div class=\"BNeawe UPmit AP7Wnd lRVwie\">cdn-shop.adafruit.com › GlobalTop-FGPMMOPA6H-Datasheet-V0A</div></div></div></a>\n",
      "Jan 31, 2012 · FGPMMOPA6H is excellent low power consumption characteristic (acquisition 82mW, tracking. 66mW), power sensitive devices, especially portable ...\n",
      "(acquisition 82mW,\n",
      "tracking. 66mW),\n"
     ]
    }
   ],
   "source": [
    "filename = os.path.abspath(\"brd-parser/data/featherwing.brd\")\n",
    "extract_mw_info(filename)"
   ]
  },
  {
   "cell_type": "code",
   "execution_count": 53,
   "metadata": {},
   "outputs": [
    {
     "name": "stdout",
     "output_type": "stream",
     "text": [
      "[INFO] Searching for power consumption of FAN3852\n",
      "<a href=\"/url?q=https://www.onsemi.com/pdf/datasheet/fan3852-d.pdf&amp;sa=U&amp;ved=2ahUKEwjav_yB5-b-AhWVAzQIHTL_AEcQFnoECAMQAg&amp;usg=AOvVaw2ugRC9E5_7OzBIrLguEQJz\"><div class=\"DnJfK\"><div class=\"j039Wc\"><h3 class=\"zBAuLc l97dzf\"><div class=\"BNeawe vvjwJb AP7Wnd\">[PDF] FAN3852 - Microphone Pre-Amplifier with Digital Output - Onsemi</div></h3></div><div class=\"sCuL3\"><div class=\"BNeawe UPmit AP7Wnd lRVwie\">www.onsemi.com › pdf › datasheet › fan3852-d</div></div></div></a>\n",
      "The FAN3852 features an integrated LDO and is powered from the system supply rails up to 3.63 V, with low power consumption of only.\n",
      "<a href=\"/url?q=https://www.digikey.co.il/htmldatasheets/production/3618101/0/0/1/fan3852.html&amp;sa=U&amp;ved=2ahUKEwjav_yB5-b-AhWVAzQIHTL_AEcQFnoECAkQAg&amp;usg=AOvVaw3ahVyq6Dt4XPCvGDyYxzOK\"><div class=\"DnJfK\"><div class=\"j039Wc\"><h3 class=\"zBAuLc l97dzf\"><div class=\"BNeawe vvjwJb AP7Wnd\">FAN3852 Datasheet by ON Semiconductor - Digi-Key Electronics</div></h3></div><div class=\"sCuL3\"><div class=\"BNeawe UPmit AP7Wnd lRVwie\">www.digikey.co.il › htmldatasheets › production › fan3852</div></div></div></a>\n",
      "The FAN3852 features an integrated LDO and is powered from the. system supply rails up to 3.63 V, with low power consumption of only.\n",
      "<a href=\"/url?q=https://en.sekorm.com/doc/2487813.html&amp;sa=U&amp;ved=2ahUKEwjav_yB5-b-AhWVAzQIHTL_AEcQFnoECAEQAg&amp;usg=AOvVaw00UX4Sn3m3sMtwfwKLkKm1\"><div class=\"DnJfK\"><div class=\"j039Wc\"><h3 class=\"zBAuLc l97dzf\"><div class=\"BNeawe vvjwJb AP7Wnd\">FAN3852 Microphone Pre-Amplifier with Digital Output - Sekorm</div></h3></div><div class=\"sCuL3\"><div class=\"BNeawe UPmit AP7Wnd lRVwie\">en.sekorm.com › doc</div></div></div></a>\n",
      "The FAN3852 features an integrated LDO and is powered from the system supply rails up to 3.63 V, with low power consumption of only0.85 mW and less than 20 ...\n",
      "only0.85 mW\n"
     ]
    }
   ],
   "source": [
    "ICname = \"FAN3852\"\n",
    "extract_mw_info(ICname)"
   ]
  },
  {
   "cell_type": "code",
   "execution_count": 54,
   "metadata": {},
   "outputs": [
    {
     "name": "stdout",
     "output_type": "stream",
     "text": [
      "[INFO] Searching for power consumption of ACS732\n",
      "<a href=\"/url?q=https://www.allegromicro.com/-/media/files/datasheets/acs732-3-kla-datasheet.pdf&amp;sa=U&amp;ved=2ahUKEwjFleyD5-b-AhX9GDQIHZfbAXMQFnoECAkQAg&amp;usg=AOvVaw2GI_5bqaRbZX1x7C83ct0T\"><div class=\"DnJfK\"><div class=\"j039Wc\"><h3 class=\"zBAuLc l97dzf\"><div class=\"BNeawe vvjwJb AP7Wnd\">[PDF] ACS732 and ACS733 - Allegro MicroSystems</div></h3></div><div class=\"sCuL3\"><div class=\"BNeawe UPmit AP7Wnd lRVwie\">www.allegromicro.com › files › datasheets › acs732-3-kla-datasheet</div></div></div></a>\n",
      "Performance values include the power consumed by the PCB. ... ACS732. 4.75. 5.0. 5.25. V. ACS733. 3.14. 3.3. 3.46. V. Supply Current.\n",
      "<a href=\"/url?q=https://www.allegromicro.com/en/products/sense/current-sensor-ics/zero-to-fifty-amp-integrated-conductor-sensor-ics/acs732-3&amp;sa=U&amp;ved=2ahUKEwjFleyD5-b-AhX9GDQIHZfbAXMQFnoECAgQAg&amp;usg=AOvVaw27jV4nNsrsx33-FNYjehMD\"><div class=\"DnJfK\"><div class=\"j039Wc\"><h3 class=\"zBAuLc l97dzf\"><div class=\"BNeawe vvjwJb AP7Wnd\">ACS732 and ACS733: 1 MHz Bandwidth, Galvanically Isolated ...</div></h3></div><div class=\"sCuL3\"><div class=\"BNeawe UPmit AP7Wnd lRVwie\">www.allegromicro.com › products › sense › current-sensor-ics › acs732-3</div></div></div></a>\n",
      "The ACS732 and ACS733 current sensor family provides a 1MHz bandwidth with lightning fast 210nS response time sensing for AC or DC current sensing in ...\n",
      "<a href=\"/url?q=https://www.digikey.com/en/product-highlight/a/allegro-microsystems/acs732-3-galvanically-isolated-current-sensor-ic&amp;sa=U&amp;ved=2ahUKEwjFleyD5-b-AhX9GDQIHZfbAXMQFnoECAoQAg&amp;usg=AOvVaw2Yw2YvNDg82QxviUL_E8EG\"><div class=\"DnJfK\"><div class=\"j039Wc\"><h3 class=\"zBAuLc l97dzf\"><div class=\"BNeawe vvjwJb AP7Wnd\">ACS732/3 Galvanically Isolated Current Sensor IC - Digikey</div></h3></div><div class=\"sCuL3\"><div class=\"BNeawe UPmit AP7Wnd lRVwie\">www.digikey.com › product-highlight › allegro-microsystems › acs732-3-...</div></div></div></a>\n",
      "Jul 20, 2018 · The ACS732 and ACS733 from Allegro Microsystems offer high isolation, high bandwidth Hall-effect-based current sensing.\n",
      "<a href=\"/url?q=https://en.sekorm.com/doc/2021586.html&amp;sa=U&amp;ved=2ahUKEwjFleyD5-b-AhX9GDQIHZfbAXMQFnoECAMQAg&amp;usg=AOvVaw3xjCwQA8_iBAQiW7CqqIco\"><div class=\"DnJfK\"><div class=\"j039Wc\"><h3 class=\"zBAuLc l97dzf\"><div class=\"BNeawe vvjwJb AP7Wnd\">ACS732 and ACS733 1 MHz Bandwidth, Galvanically ... - Sekorm</div></h3></div><div class=\"sCuL3\"><div class=\"BNeawe UPmit AP7Wnd lRVwie\">en.sekorm.com › doc</div></div></div></a>\n",
      "Jul 28, 2022 · □1 mΩ primary conductor resistance for low power loss and high inrush current ... □Options for 3.3V and 5V single supply operation\n",
      "<a href=\"/url?q=https://www.14core.com/acs732-3-kla-datasheet-1-mhz-bandwidth-galvanically-isolated-current-sensor/&amp;sa=U&amp;ved=2ahUKEwjFleyD5-b-AhX9GDQIHZfbAXMQFnoECAAQAg&amp;usg=AOvVaw32jlxDQ4ep8pmcw_2yTR7q\"><div class=\"DnJfK\"><div class=\"j039Wc\"><h3 class=\"zBAuLc l97dzf\"><div class=\"BNeawe vvjwJb AP7Wnd\">ACS732-3-KLA-Datasheet-1 MHz Bandwidth, Galvanically Isolated ...</div></h3></div><div class=\"sCuL3\"><div class=\"BNeawe UPmit AP7Wnd lRVwie\">www.14core.com › acs732-3-kla-datasheet-1-mhz-bandwidth-galvanically-...</div></div></div></a>\n",
      "ACS732-3-KLA-Datasheet-1 MHz Bandwidth, Galvanically Isolated-current-sensor. ACS732-3-KLA-Datasheet-1 MHz Bandwidth, Galvanically Isolated-current-sensor.\n",
      "<a href=\"/url?q=https://www.electronicspecifier.com/products/sensors/high-bandwidth-sensors-provide-3-600-vrms-isolation&amp;sa=U&amp;ved=2ahUKEwjFleyD5-b-AhX9GDQIHZfbAXMQFnoECAEQAg&amp;usg=AOvVaw3ja9jjs8tV8os-QreYf7Vi\"><div class=\"DnJfK\"><div class=\"j039Wc\"><h3 class=\"zBAuLc l97dzf\"><div class=\"BNeawe vvjwJb AP7Wnd\">High bandwidth sensors provide 3,600 VRMS isolation</div></h3></div><div class=\"sCuL3\"><div class=\"BNeawe UPmit AP7Wnd lRVwie\">www.electronicspecifier.com › products › high-bandwidth-sensors-provide...</div></div></div></a>\n",
      "The Allegro ACS732 and ACS733 current sensor ICs provide a compact, fast, ... be used in high side current sensing applications without the use of high side ...\n",
      "<a href=\"/url?q=https://www.fierceelectronics.com/components/current-sensor-family-births-two-new-members&amp;sa=U&amp;ved=2ahUKEwjFleyD5-b-AhX9GDQIHZfbAXMQFnoECAYQAg&amp;usg=AOvVaw04WnANoLkvqZ8XgF8zR7QT\"><div class=\"DnJfK\"><div class=\"j039Wc\"><h3 class=\"zBAuLc l97dzf\"><div class=\"BNeawe vvjwJb AP7Wnd\">Current Sensor Family Births Two New Members | Fierce Electronics</div></h3></div><div class=\"sCuL3\"><div class=\"BNeawe UPmit AP7Wnd lRVwie\">www.fierceelectronics.com › components › current-sensor-family-births-tw...</div></div></div></a>\n",
      "Allegro MicroSystems adds the ACS732 and ACS733 current sensor ICs to its ... be used in high-side current sensing applications without the use of high-side ...\n",
      "<a href=\"/url?q=https://softei.com/allegro-microsystems-europe-adds-1-0mhz-current-sensor-ics-to-portfolio/&amp;sa=U&amp;ved=2ahUKEwjFleyD5-b-AhX9GDQIHZfbAXMQFnoECAQQAg&amp;usg=AOvVaw3kgU-5BbP37Ey5sqv1g_pf\"><div class=\"DnJfK\"><div class=\"j039Wc\"><h3 class=\"zBAuLc l97dzf\"><div class=\"BNeawe vvjwJb AP7Wnd\">Allegro MicroSystems Europe adds 1.0MHz current sensor ICs to ...</div></h3></div><div class=\"sCuL3\"><div class=\"BNeawe UPmit AP7Wnd lRVwie\">softei.com › ...</div></div></div></a>\n",
      "The ACS732 and ACS733 current sensor ICs are compact and measure ... to be used in high-side current sensing applications without the use of high-side ...\n",
      "<a href=\"/url?q=https://cris.unibo.it/retrieve/e1dcb336-7309-7715-e053-1705fe0a6cc9/XHall_TIM_post-print-cover.pdf&amp;sa=U&amp;ved=2ahUKEwjFleyD5-b-AhX9GDQIHZfbAXMQFnoECAIQAg&amp;usg=AOvVaw06gWl5Y4ulGJBZXb75Kraa\"><div class=\"DnJfK\"><div class=\"j039Wc\"><h3 class=\"zBAuLc l97dzf\"><div class=\"BNeawe vvjwJb AP7Wnd\">[PDF] The X-Hall Sensor: Towards Integrated Broadband Current Sensing</div></h3></div><div class=\"sCuL3\"><div class=\"BNeawe UPmit AP7Wnd lRVwie\">cris.unibo.it › retrieve › XHall_TIM_post-print-cover</div></div></div></a>\n",
      "power consumption with respect to the VFA architecture. For ... “ACS732 and ACS733: 1 MHz Bandwidth, Galvanically Isolated. Current Sensor IC in SOIC-16 ...\n",
      "[WARNING] No power consumption information found for ACS732\n"
     ]
    }
   ],
   "source": [
    "ICname = \"ACS732\"\n",
    "extract_mw_info(ICname)"
   ]
  },
  {
   "cell_type": "code",
   "execution_count": 56,
   "metadata": {},
   "outputs": [
    {
     "name": "stdout",
     "output_type": "stream",
     "text": [
      "{2: 'RT9080-3.3', 3: 'MCP73831T-2ACI/OT', 1: '8MB QSPI'}\n",
      "[INFO] Searching for power consumption of 8MB QSPI\n",
      "<a href=\"/url?q=https://www.adafruit.com/product/5671&amp;sa=U&amp;ved=2ahUKEwi1mNaT5-b-AhUCAjQIHbvgDqIQFnoECAEQAg&amp;usg=AOvVaw3GVQ2-z64x8jPNqjLBlwHc\"><div class=\"DnJfK\"><div class=\"j039Wc\"><h3 class=\"zBAuLc l97dzf\"><div class=\"BNeawe vvjwJb AP7Wnd\">ESP32-C6-WROOM-1-N8 Engineering Module - 8 MB Quad SPI Flash</div></h3></div><div class=\"sCuL3\"><div class=\"BNeawe UPmit AP7Wnd lRVwie\">www.adafruit.com › product</div></div></div></a>\n",
      "$3.50 Out of stockWith low-power consumption, it is an ideal choice for a variety of IoT devices!This module comes with 8 MB Quad SPI Flash memory.Features:32-bit RISC-V.\n",
      "<a href=\"/url?q=https://www.adafruit.com/product/5678&amp;sa=U&amp;ved=2ahUKEwi1mNaT5-b-AhUCAjQIHbvgDqIQFnoECAkQAg&amp;usg=AOvVaw0260sCC6bdj_YXd2FV4iLT\"><div class=\"DnJfK\"><div class=\"j039Wc\"><h3 class=\"zBAuLc l97dzf\"><div class=\"BNeawe vvjwJb AP7Wnd\">3V 64Mbit / 8 MB QSPI NOR Flash Memory - 10 Pack : ID 5678 : $9.95</div></h3></div><div class=\"sCuL3\"><div class=\"BNeawe UPmit AP7Wnd lRVwie\">www.adafruit.com › product</div></div></div></a>\n",
      "$9.95 In stockWhen you don't need something with as much storage as a micro SD card, but an EEPROM is too small, SPI (or QSPI) Flash chips give you on-the-order-of megabytes, ...\n",
      "<a href=\"/url?q=https://devzone.nordicsemi.com/f/nordic-q-a/64145/nrf52840-qspi-power-consumption&amp;sa=U&amp;ved=2ahUKEwi1mNaT5-b-AhUCAjQIHbvgDqIQFnoECAoQAg&amp;usg=AOvVaw3qNknknFiQnqM3__5JH6Ur\"><div class=\"DnJfK\"><div class=\"j039Wc\"><h3 class=\"zBAuLc l97dzf\"><div class=\"BNeawe vvjwJb AP7Wnd\">nRF52840 QSPI Power Consumption - Nordic DevZone</div></h3></div><div class=\"sCuL3\"><div class=\"BNeawe UPmit AP7Wnd lRVwie\">devzone.nordicsemi.com › nordic-q-a › nrf52840-qspi-power-consumption</div></div></div></a>\n",
      "We're using the nRF52840 on a battery-powered device that requires very low power consumption, both in run mode and also in the Cortex-M4 ...Missing:  8MB | Must include:8MB\n",
      "<a href=\"/url?q=https://www.infineon.com/dgdl/Infineon-AN218375_Designing_with_Infineon_Quad_SPI_(QSPI)_F-RAM-ApplicationNotes-v01_00-EN.pdf%3FfileId%3D8ac78c8c7cdc391c017d0d325c9a65e5&amp;sa=U&amp;ved=2ahUKEwi1mNaT5-b-AhUCAjQIHbvgDqIQFnoECAQQAg&amp;usg=AOvVaw2Bn973joARV_VLduwZWYaI\"><div class=\"DnJfK\"><div class=\"j039Wc\"><h3 class=\"zBAuLc l97dzf\"><div class=\"BNeawe vvjwJb AP7Wnd\">[PDF] Designing with Cypress Quad SPI (QSPI) F-RAM™</div></h3></div><div class=\"sCuL3\"><div class=\"BNeawe UPmit AP7Wnd lRVwie\">www.infineon.com › dgdl › Infineon-AN218375_Designing_with_In...</div></div></div></a>\n",
      "The QSPI F-RAM supports single data rate (SDR) for all its SPI interface options up to 108 MHz, while it also supports the double data rate (DDR) up to 54 MHz ...\n",
      "<a href=\"/url?q=https://www.infineon.com/dgdl/Infineon-S25FL064L_64-Mbit_(8-Mbyte)_3.0_V_FL-L_SPI_Flash_Memory-DataSheet-v07_00-EN.pdf%3FfileId%3D8ac78c8c7d0d8da4017d0ee2d2846996&amp;sa=U&amp;ved=2ahUKEwi1mNaT5-b-AhUCAjQIHbvgDqIQFnoECAMQAg&amp;usg=AOvVaw1huLUA_eq7dr_7LuUsXf4L\"><div class=\"DnJfK\"><div class=\"j039Wc\"><h3 class=\"zBAuLc l97dzf\"><div class=\"BNeawe vvjwJb AP7Wnd\">[PDF] S25FL064L - 64 Mb (8 MB) FL-L flash - Infineon Technologies</div></h3></div><div class=\"sCuL3\"><div class=\"BNeawe UPmit AP7Wnd lRVwie\">www.infineon.com › dgdl</div></div></div></a>\n",
      "Jul 21, 2022 · 32 KB half block erase. 106. 64 KB block erase. 142. Typical current consumption. Operation. Typical current. Unit. Read 50 MHz.Missing:  QSPI | Must include:QSPI\n",
      "<a href=\"/url?q=https://developer.arm.com/documentation/101107/0000/Hardware-description/QSPI-boot-memory&amp;sa=U&amp;ved=2ahUKEwi1mNaT5-b-AhUCAjQIHbvgDqIQFnoECAUQAg&amp;usg=AOvVaw1mstvsBK6_JcjDo5xUxQKX\"><div class=\"DnJfK\"><div class=\"j039Wc\"><h3 class=\"zBAuLc l97dzf\"><div class=\"BNeawe vvjwJb AP7Wnd\">QSPI boot memory - Musca-A Test Chip Board - Arm Developer</div></h3></div><div class=\"sCuL3\"><div class=\"BNeawe UPmit AP7Wnd lRVwie\">developer.arm.com › ... › Musca-A Test Chip Board</div></div></div></a>\n",
      "Normal Musca-A test chip boot operation is from external QSPI 8MB boot flash memory. Only the lowest 256KB of QSPI memory is directly accessible.\n",
      "<a href=\"/url?q=https://www.ti.com/lit/pdf/sprad50&amp;sa=U&amp;ved=2ahUKEwi1mNaT5-b-AhUCAjQIHbvgDqIQFnoECAIQAg&amp;usg=AOvVaw1--fmXQfRin8JHlusMvdqZ\"><div class=\"DnJfK\"><div class=\"j039Wc\"><h3 class=\"zBAuLc l97dzf\"><div class=\"BNeawe vvjwJb AP7Wnd\">[PDF] AM263x QSPI Flash Selection Guide (Rev. A) - Texas Instruments</div></h3></div><div class=\"sCuL3\"><div class=\"BNeawe UPmit AP7Wnd lRVwie\">www.ti.com › lit › pdf › sprad50</div></div></div></a>\n",
      "covers some of the basic requirements that a specific flash memory must support ... flow process is a sequence adopted by AM263x that starts upon power-on.\n",
      "<a href=\"/url?q=https://e2e.ti.com/support/sensors-group/sensors/f/sensors-forum/708554/iwr1642-qspi-flash-for-iwr1642&amp;sa=U&amp;ved=2ahUKEwi1mNaT5-b-AhUCAjQIHbvgDqIQFnoECAAQAg&amp;usg=AOvVaw2Cr2uwVrbR1IxMf0XYnOf_\"><div class=\"DnJfK\"><div class=\"j039Wc\"><h3 class=\"zBAuLc l97dzf\"><div class=\"BNeawe vvjwJb AP7Wnd\">QSPI Flash for IWR1642 - Sensors forum - TI E2E - Texas Instruments</div></h3></div><div class=\"sCuL3\"><div class=\"BNeawe UPmit AP7Wnd lRVwie\">e2e.ti.com › support › sensors-group › iwr1642-qspi-flash-for-iwr1642</div></div></div></a>\n",
      "Jul 13, 2018 · IWR1642: QSPI Flash for IWR1642. Naoki Kawada ... MX25V8035FM1Q - 8Mb / 2.30V - 3.60V / Quad SPI (104MHz) / 8 SoP / -40°C to 125°C.\n",
      "<a href=\"/url?q=https://protosupplies.com/product/psram/&amp;sa=U&amp;ved=2ahUKEwi1mNaT5-b-AhUCAjQIHbvgDqIQFnoECAYQAg&amp;usg=AOvVaw3ILMbcokk1YqgvfQrWmsSn\"><div class=\"DnJfK\"><div class=\"j039Wc\"><h3 class=\"zBAuLc l97dzf\"><div class=\"BNeawe vvjwJb AP7Wnd\">8MB/64M-bit PSRAM For Teensy 4.1 - ProtoSupplies</div></h3></div><div class=\"sCuL3\"><div class=\"BNeawe UPmit AP7Wnd lRVwie\">protosupplies.com › product › psram</div></div></div></a>\n",
      "$1.95 In stockThe 8MB PSRAM with SPI interface is used to add additional 8MB or 16MB memory to ... QSPI PSRAM adds 64 or 128M-bit additional volatile memory to Teensy 4.1.\n",
      "<a href=\"/url?q=https://community.nxp.com/t5/i-MX-RT/RT1051-QSPI-flash-with-IS25LP064A/m-p/1197932&amp;sa=U&amp;ved=2ahUKEwi1mNaT5-b-AhUCAjQIHbvgDqIQFnoECAcQAg&amp;usg=AOvVaw1pqr5wKiT4hpURz-pgBjm8\"><div class=\"DnJfK\"><div class=\"j039Wc\"><h3 class=\"zBAuLc l97dzf\"><div class=\"BNeawe vvjwJb AP7Wnd\">RT1051: QSPI flash with IS25LP064A - NXP Community</div></h3></div><div class=\"sCuL3\"><div class=\"BNeawe UPmit AP7Wnd lRVwie\">community.nxp.com › i-MX-RT › RT1051-QSPI-flash-with-IS25LP064A</div></div></div></a>\n",
      "I am now debugging my customized board with RT1051 and IS25LP064A QSPI flash as ... Please also note to modify the power from 1V8 to 3V3, then use the same ...\n",
      "[WARNING] No power consumption information found for 8MB QSPI\n",
      "[INFO] Searching for power consumption of RT9080-3.3\n",
      "<a href=\"/url?q=https://www.richtek.com/assets/product_file/RT9080/DS9080-00.pdf&amp;sa=U&amp;ved=2ahUKEwiVnvqT5-b-AhV1FzQIHbuaCuQQFnoECAYQAg&amp;usg=AOvVaw16Xl8W9-z7NuVGzl15HfHK\"><div class=\"DnJfK\"><div class=\"j039Wc\"><h3 class=\"zBAuLc l97dzf\"><div class=\"BNeawe vvjwJb AP7Wnd\">[PDF] RT9080 - 2μA IQ, 600mA Low-Dropout Linear Regulator</div></h3></div><div class=\"sCuL3\"><div class=\"BNeawe UPmit AP7Wnd lRVwie\">www.richtek.com › assets › product_file</div></div></div></a>\n",
      "Support Fixed Output Voltage 0.8V to 3.3V ... The RT9080 delivers the output power when it is set to enable state. ... VCC Consumption Current.\n",
      "<a href=\"/url?q=https://www.newark.com/richtek/rt9080-33gj5/ldo-fixed-3-3v-0-6a-tsot-23-5/dp/06AC2505&amp;sa=U&amp;ved=2ahUKEwiVnvqT5-b-AhV1FzQIHbuaCuQQFnoECAkQAg&amp;usg=AOvVaw3Z3ms3cMMLnMvId5PHEptx\"><div class=\"DnJfK\"><div class=\"j039Wc\"><h3 class=\"zBAuLc l97dzf\"><div class=\"BNeawe vvjwJb AP7Wnd\">RT9080-33GJ5 - Richtek - Fixed LDO Voltage Regulator, 1.2 V to ...</div></h3></div><div class=\"sCuL3\"><div class=\"BNeawe UPmit AP7Wnd lRVwie\">www.newark.com › ... › Voltage Regulators › LDO Voltage Regulators</div></div></div></a>\n",
      "$0.15 to $0.47 In stockFixed LDO Voltage Regulator, 1.2 V to 5.5 V, 310 mV Dropout, 3.3 V, 600 mA out, ... VCC consumption current of 2μA and shutdown GND current of 0.1μA ...\n",
      "<a href=\"/url?q=https://www.digchip.com/datasheets/parts/datasheet/2/403/RT9080-33GJ5.php&amp;sa=U&amp;ved=2ahUKEwiVnvqT5-b-AhV1FzQIHbuaCuQQFnoECAoQAg&amp;usg=AOvVaw2f2J2kG3JWH6_BaJ21eS9c\"><div class=\"DnJfK\"><div class=\"j039Wc\"><h3 class=\"zBAuLc l97dzf\"><div class=\"BNeawe vvjwJb AP7Wnd\">RT9080-33GJ5 datasheet - LDO Voltage Regulator, Fixed, 1.2 V to ...</div></h3></div><div class=\"sCuL3\"><div class=\"BNeawe UPmit AP7Wnd lRVwie\">www.digchip.com › datasheets › parts › datasheet</div></div></div></a>\n",
      "RT9080-33GJ5 LDO Voltage Regulator, Fixed, 1.2 V to 5.5 V in, 3.3 V/600 mA out, ... VCC consumption current of 2µA and shutdown GND current of 0.1µA ...Datasheet: Download RT9080-33GJ5 Datasheet\n",
      "<a href=\"/url?q=https://www.digikey.com/en/products/detail/richtek-usa-inc/RT9080-33GJ5/6161634&amp;sa=U&amp;ved=2ahUKEwiVnvqT5-b-AhV1FzQIHbuaCuQQFnoECAQQAg&amp;usg=AOvVaw2ugxK8_IRzXHfFkbsfpLrf\"><div class=\"DnJfK\"><div class=\"j039Wc\"><h3 class=\"zBAuLc l97dzf\"><div class=\"BNeawe vvjwJb AP7Wnd\">RT9080-33GJ5 Richtek USA Inc. | Integrated Circuits (ICs) | DigiKey</div></h3></div><div class=\"sCuL3\"><div class=\"BNeawe UPmit AP7Wnd lRVwie\">www.digikey.com › ... › Voltage Regulators - Linear</div></div></div></a>\n",
      "$0.47 In stockRT9080-33GJ5 ; Voltage - Output (Max). - ; Voltage Dropout (Max). 0.53V @ 600mA ; Current - Quiescent (Iq). 4 µA ; PSRR. 75dB (1kHz) ; Control Features. Enable.Missing:  consumption | Must include:consumption\n",
      "<a href=\"/url?q=http://www.datasheet.es/PDF/1021498/RT9080-pdf.html&amp;sa=U&amp;ved=2ahUKEwiVnvqT5-b-AhV1FzQIHbuaCuQQFnoECAIQAg&amp;usg=AOvVaw1YR6lR4qBYsPaC-nXTop_r\"><div class=\"DnJfK\"><div class=\"j039Wc\"><h3 class=\"zBAuLc l97dzf\"><div class=\"BNeawe vvjwJb AP7Wnd\">(PDF) RT9080 Datasheet - 600mA Low-Dropout Linear Regulator</div></h3></div><div class=\"sCuL3\"><div class=\"BNeawe UPmit AP7Wnd lRVwie\">www.datasheet.es › PDF › RT9080-pdf</div></div></div></a>\n",
      "Suitable for use in SnPb or Pb-free soldering processes. 2μA Ground Current at no Load. PSRR = 75dB at ...\n",
      "<a href=\"/url?q=https://octopart.com/rt9080-33gqz-richtek-75277505&amp;sa=U&amp;ved=2ahUKEwiVnvqT5-b-AhV1FzQIHbuaCuQQFnoECAgQAg&amp;usg=AOvVaw17gG4j4mTEBiJNp5uJGHj4\"><div class=\"DnJfK\"><div class=\"j039Wc\"><h3 class=\"zBAuLc l97dzf\"><div class=\"BNeawe vvjwJb AP7Wnd\">RT9080-33GQZ Richtek - Voltage Regulators - Linear - Octopart</div></h3></div><div class=\"sCuL3\"><div class=\"BNeawe UPmit AP7Wnd lRVwie\">octopart.com › ... › Power Management ICs › Voltage Regulators - Linear</div></div></div></a>\n",
      "LDO, FIXED, 3.3V, 0.6A, QFN; Output Type:Fixed; Input Voltage Min:1.2V; Input Voltage Max:5.5V; Output Voltage Min:-; Output Voltage Max:-; Output Current ...\n",
      "<a href=\"/url?q=https://www.xonelec.com/mpn/richtek/rt908033gj5&amp;sa=U&amp;ved=2ahUKEwiVnvqT5-b-AhV1FzQIHbuaCuQQFnoECAMQAg&amp;usg=AOvVaw05uZ_nbrtP3jayOhXmfsR5\"><div class=\"DnJfK\"><div class=\"j039Wc\"><h3 class=\"zBAuLc l97dzf\"><div class=\"BNeawe vvjwJb AP7Wnd\">RT9080-33GJ5 - Richtek | X-ON Electronics</div></h3></div><div class=\"sCuL3\"><div class=\"BNeawe UPmit AP7Wnd lRVwie\">www.xonelec.com › mpn › richtek</div></div></div></a>\n",
      "$0.28RT9080 2A I , 600mA Low-Dropout Linear Regulator Q General Description Features 2A Ground Current at no Load The RT9080 is a low-dropout (LDO) voltage ...\n",
      "<a href=\"/url?q=https://datasheet.lcsc.com/szlcsc/Holtek-Semicon-HT7333-A_C21583.pdf&amp;sa=U&amp;ved=2ahUKEwiVnvqT5-b-AhV1FzQIHbuaCuQQFnoECAEQAg&amp;usg=AOvVaw27U6isEexz_Yz3BXTG_5dN\"><div class=\"DnJfK\"><div class=\"j039Wc\"><h3 class=\"zBAuLc l97dzf\"><div class=\"BNeawe vvjwJb AP7Wnd\">[PDF] HT73xx Series Low Power Consumption LDO</div></h3></div><div class=\"sCuL3\"><div class=\"BNeawe UPmit AP7Wnd lRVwie\">datasheet.lcsc.com › szlcsc › Holtek-Semicon-HT7333-A_C21583</div></div></div></a>\n",
      "Ultra low quiescent current: 3.5µA (typ.) • High input voltage (up to 12V). • Output voltage: 1.8V, 2.5V, 2.7V, 3.0V, 3.3V, 3.5V,. 4.15V, 5.0V.Missing:  RT9080- | Must include:RT9080-\n",
      "<a href=\"/url?q=https://diyi0t.com/reduce-the-esp32-power-consumption/&amp;sa=U&amp;ved=2ahUKEwiVnvqT5-b-AhV1FzQIHbuaCuQQFnoECAAQAg&amp;usg=AOvVaw1iDD84iQoj91uNiU8JqyvJ\"><div class=\"DnJfK\"><div class=\"j039Wc\"><h3 class=\"zBAuLc l97dzf\"><div class=\"BNeawe vvjwJb AP7Wnd\">Guide to Reduce the ESP32 Power Consumption by 95% - DIYI0T</div></h3></div><div class=\"sCuL3\"><div class=\"BNeawe UPmit AP7Wnd lRVwie\">diyi0t.com › reduce-the-esp32-power-consumption</div></div></div></a>\n",
      "Sep 23, 2020 · The best voltage regulator for low power consumption has the FireBeetle ESP32, that uses the RT9080-33GJ5 voltage regulator with only 0.31V ...\n",
      "<a href=\"/url?q=https://arduino.stackexchange.com/questions/85165/how-does-the-firebeetle-esp32-regulate-to-3-3v-schematic-provided&amp;sa=U&amp;ved=2ahUKEwiVnvqT5-b-AhV1FzQIHbuaCuQQFnoECAUQAg&amp;usg=AOvVaw2B-m8qolh2_ECedjGyOY93\"><div class=\"DnJfK\"><div class=\"j039Wc\"><h3 class=\"zBAuLc l97dzf\"><div class=\"BNeawe vvjwJb AP7Wnd\">How does the FireBeetle ESP32 regulate to 3.3v? (schematic ...</div></h3></div><div class=\"sCuL3\"><div class=\"BNeawe UPmit AP7Wnd lRVwie\">arduino.stackexchange.com › questions</div></div></div></a>\n",
      "Answered my own question - I didn't realize that dropout voltage essentially goes to 0 for this regulator when current consumption is low.\n",
      "[WARNING] No power consumption information found for RT9080-3.3\n",
      "[INFO] Searching for power consumption of MCP73831T-2ACI/OT\n",
      "<a href=\"/url?q=https://ww1.microchip.com/downloads/en/DeviceDoc/MCP73831-Family-Data-Sheet-DS20001984H.pdf&amp;sa=U&amp;ved=2ahUKEwj005iU5-b-AhVjIn0KHbxXBhwQFnoECAQQAg&amp;usg=AOvVaw1WwqpRAF83Wbte4NZ_5YBp\"><div class=\"DnJfK\"><div class=\"j039Wc\"><h3 class=\"zBAuLc l97dzf\"><div class=\"BNeawe vvjwJb AP7Wnd\">[PDF] MCP73831/2 - Microchip Technology</div></h3></div><div class=\"sCuL3\"><div class=\"BNeawe UPmit AP7Wnd lRVwie\">ww1.microchip.com › downloads › DeviceDoc</div></div></div></a>\n",
      "Feb 28, 2020 · The constant voltage regulation is fixed with four available options: 4.20V, 4.35V, 4.40V or 4.50V, to accommodate new, emerging battery ...\n",
      "<a href=\"/url?q=https://www.digikey.com/en/products/detail/microchip-technology/MCP73831T-2ACI-OT/964301&amp;sa=U&amp;ved=2ahUKEwj005iU5-b-AhVjIn0KHbxXBhwQFnoECAsQAg&amp;usg=AOvVaw1JciMNdo6znDH76YSt3QwD\"><div class=\"DnJfK\"><div class=\"j039Wc\"><h3 class=\"zBAuLc l97dzf\"><div class=\"BNeawe vvjwJb AP7Wnd\">MCP73831T-2ACI/OT Microchip Technology | Integrated Circuits (ICs)</div></h3></div><div class=\"sCuL3\"><div class=\"BNeawe UPmit AP7Wnd lRVwie\">www.digikey.com › ... › Power Management (PMIC) › Battery Chargers</div></div></div></a>\n",
      "$0.76 In stockMCP73831T-2ACI/OT ; Charge Current - Max. 500mA ; Battery Pack Voltage. 4.2V ; Voltage - Supply (Max). 6V ; Interface. - ; Operating Temperature. -40°C ~ 85°C (TA).Missing:  consumption | Must include:consumption\n",
      "<a href=\"/url?q=https://www.mouser.com/ProductDetail/Microchip-Technology/MCP73831T-2ACI-OT%3Fqs%3DyUQqVecv4qvbBQBGbHx0Mw%253D%253D&amp;sa=U&amp;ved=2ahUKEwj005iU5-b-AhVjIn0KHbxXBhwQFnoECAkQAg&amp;usg=AOvVaw0y-wlz6h2I3LLSJyJAyJjB\"><div class=\"DnJfK\"><div class=\"j039Wc\"><h3 class=\"zBAuLc l97dzf\"><div class=\"BNeawe vvjwJb AP7Wnd\">MCP73831T-2ACI/OT Microchip Technology - Mouser Electronics</div></h3></div><div class=\"sCuL3\"><div class=\"BNeawe UPmit AP7Wnd lRVwie\">www.mouser.com › ProductDetail › MCP73831T-2ACI-OT</div></div></div></a>\n",
      "$0.81 In stockSpecifications ; Battery Type: Lithium-ion, Lithium Polymer ; Output Voltage: 4.2 V ; Output Current: 15 mA to 500 mA ; Operating Supply Voltage: 3.75 V to 6 V.\n",
      "<a href=\"/url?q=https://in.element14.com/microchip/mcp73831t-2aci-ot/li-ion-li-poly-charge-controller/dp/1332158&amp;sa=U&amp;ved=2ahUKEwj005iU5-b-AhVjIn0KHbxXBhwQFnoECAcQAg&amp;usg=AOvVaw0uALeBAim-oCSYupMQc2Pn\"><div class=\"DnJfK\"><div class=\"j039Wc\"><h3 class=\"zBAuLc l97dzf\"><div class=\"BNeawe vvjwJb AP7Wnd\">MCP73831T-2ACI/OT - Microchip - Battery Charger for 1 Cell of Li ...</div></h3></div><div class=\"sCuL3\"><div class=\"BNeawe UPmit AP7Wnd lRVwie\">in.element14.com › ... › Battery Management › Battery Charger ICs</div></div></div></a>\n",
      "₹56.17 to ₹62.68 In stockBattery Charger for 1 Cell of Li-Ion, Li-Pol battery, 6V input, 4.2V / 500mA charge, SOT-23-5.\n",
      "<a href=\"/url?q=https://www.lcsc.com/product-detail/PMIC-Battery-Management_Microchip-Tech-MCP73831T-2ACI-OT_C424093.html&amp;sa=U&amp;ved=2ahUKEwj005iU5-b-AhVjIn0KHbxXBhwQFnoECAIQAg&amp;usg=AOvVaw14cJqvAY0S_mdPImULDBuF\"><div class=\"DnJfK\"><div class=\"j039Wc\"><h3 class=\"zBAuLc l97dzf\"><div class=\"BNeawe vvjwJb AP7Wnd\">MCP73831T-2ACI/OT Microchip Tech | C424093 - LCSC Electronics</div></h3></div><div class=\"sCuL3\"><div class=\"BNeawe UPmit AP7Wnd lRVwie\">www.lcsc.com › product-detail › PMIC-Battery-Management_Microchip-T...</div></div></div></a>\n",
      "$0.765126 products · Supply Voltage, 6V ; Operating Temperature, -40℃~+85℃ ; Type of Battery, 锂离子/Polymer ; Number of Cells, 1 ; Maximum Charge Current, 500mA ...Missing:  consumption | Must include:consumption\n",
      "<a href=\"/url?q=https://www.arrow.com/en/products/mcp73831t-2aciot/microchip-technology&amp;sa=U&amp;ved=2ahUKEwj005iU5-b-AhVjIn0KHbxXBhwQFnoECAYQAg&amp;usg=AOvVaw2CYuW-q2Nz_emSMxLTgKSF\"><div class=\"DnJfK\"><div class=\"j039Wc\"><h3 class=\"zBAuLc l97dzf\"><div class=\"BNeawe vvjwJb AP7Wnd\">Microchip Technology MCP73831T-2ACI/OT Battery Management ICs</div></h3></div><div class=\"sCuL3\"><div class=\"BNeawe UPmit AP7Wnd lRVwie\">www.arrow.com › ... › Application Specific › Battery Management ICs</div></div></div></a>\n",
      "$0.55Buy MCP73831T-2ACI/OT with fast, free shipping on qualifying orders. ... approach of migrating existing FPGAs designs and and managing power consumption.\n",
      "<a href=\"/url?q=https://www.utmel.com/components/mcp73831t-2aci-ot-ic-controller-lithium-ion-4-2v-datasheet-pinout-and-equivalents%3Fid%3D1373&amp;sa=U&amp;ved=2ahUKEwj005iU5-b-AhVjIn0KHbxXBhwQFnoECAMQAg&amp;usg=AOvVaw0v-Kl4w1mq0H_ATCr3jjGV\"><div class=\"DnJfK\"><div class=\"j039Wc\"><h3 class=\"zBAuLc l97dzf\"><div class=\"BNeawe vvjwJb AP7Wnd\">MCP73831T-2ACI/OT IC Controller Lithium Ion 4.2V - Utmel</div></h3></div><div class=\"sCuL3\"><div class=\"BNeawe UPmit AP7Wnd lRVwie\">www.utmel.com › components › mcp73831t-2aci-ot-ic-controller-lithium-i...</div></div></div></a>\n",
      "Feb 22, 2022 · The MCP73831T-2ACI/OT employs a constant-current/constant-voltage charge ... to accommodate new, emerging battery charging requirements.\n",
      "<a href=\"/url?q=https://us.rs-online.com/product/microchip-technology-inc-/mcp73831t-2aci-ot/70046198/&amp;sa=U&amp;ved=2ahUKEwj005iU5-b-AhVjIn0KHbxXBhwQFnoECAUQAg&amp;usg=AOvVaw0q99QuhzKKZU6Grja7HSLF\"><div class=\"DnJfK\"><div class=\"j039Wc\"><h3 class=\"zBAuLc l97dzf\"><div class=\"BNeawe vvjwJb AP7Wnd\">Microchip Technology Inc. - MCP73831T-2ACI/OT - RS</div></h3></div><div class=\"sCuL3\"><div class=\"BNeawe UPmit AP7Wnd lRVwie\">us.rs-online.com › product › mcp73831t-2aci-ot</div></div></div></a>\n",
      "$0.75Battery Power Management ICs. /. Battery Charge Controller ICs. Expand. Microchip Technology Inc. MCP73831T-2ACI/OT. Image may be a representation.Missing:  consumption | Must include:consumption\n",
      "<a href=\"/url?q=https://www.avnet.com/shop/us/products/microchip/mcp73831t-2aci-ot-3074457345626943620/&amp;sa=U&amp;ved=2ahUKEwj005iU5-b-AhVjIn0KHbxXBhwQFnoECAoQAg&amp;usg=AOvVaw0IeEiwWNWoAAo8zdxX9TX8\"><div class=\"DnJfK\"><div class=\"j039Wc\"><h3 class=\"zBAuLc l97dzf\"><div class=\"BNeawe vvjwJb AP7Wnd\">MCP73831T-2ACI/OT by Microchip Battery Chargers | Avnet</div></h3></div><div class=\"sCuL3\"><div class=\"BNeawe UPmit AP7Wnd lRVwie\">www.avnet.com › microchip › mcp73831t-2aci-ot-3074457345626943620</div></div></div></a>\n",
      "$0.63For applications charging from a USB port, the MCP73831 adhere to all the specifications governing the USB power bus. The MCP73831 employ a constant-current/ ...\n",
      "[WARNING] No power consumption information found for MCP73831T-2ACI/OT\n"
     ]
    }
   ],
   "source": [
    "extract_mw_info(os.path.abspath(\"brd-parser/data/usbhost.brd\"))"
   ]
  },
  {
   "cell_type": "code",
   "execution_count": null,
   "metadata": {},
   "outputs": [],
   "source": []
  }
 ],
 "metadata": {
  "kernelspec": {
   "display_name": "Python 3",
   "language": "python",
   "name": "python3"
  },
  "language_info": {
   "codemirror_mode": {
    "name": "ipython",
    "version": 3
   },
   "file_extension": ".py",
   "mimetype": "text/x-python",
   "name": "python",
   "nbconvert_exporter": "python",
   "pygments_lexer": "ipython3",
   "version": "3.8.13"
  },
  "orig_nbformat": 4
 },
 "nbformat": 4,
 "nbformat_minor": 2
}
